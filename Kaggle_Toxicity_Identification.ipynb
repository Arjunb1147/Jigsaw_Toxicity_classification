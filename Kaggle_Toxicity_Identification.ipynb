{
 "cells": [
  {
   "cell_type": "code",
   "execution_count": null,
   "metadata": {},
   "outputs": [],
   "source": [
    "import pandas as pd"
   ]
  },
  {
   "cell_type": "code",
   "execution_count": 156,
   "metadata": {},
   "outputs": [],
   "source": [
    "train = pd.read_csv('C:/Users/GL/Desktop/jigsaw-unintended-bias-in-toxicity-classification/train.csv').dropna()"
   ]
  },
  {
   "cell_type": "code",
   "execution_count": 157,
   "metadata": {},
   "outputs": [
    {
     "data": {
      "text/plain": [
       "(235087, 45)"
      ]
     },
     "execution_count": 157,
     "metadata": {},
     "output_type": "execute_result"
    }
   ],
   "source": [
    "train.shape"
   ]
  },
  {
   "cell_type": "code",
   "execution_count": 158,
   "metadata": {},
   "outputs": [
    {
     "data": {
      "text/plain": [
       "Index([u'id', u'target', u'comment_text', u'severe_toxicity', u'obscene',\n",
       "       u'identity_attack', u'insult', u'threat', u'asian', u'atheist',\n",
       "       u'bisexual', u'black', u'buddhist', u'christian', u'female',\n",
       "       u'heterosexual', u'hindu', u'homosexual_gay_or_lesbian',\n",
       "       u'intellectual_or_learning_disability', u'jewish', u'latino', u'male',\n",
       "       u'muslim', u'other_disability', u'other_gender',\n",
       "       u'other_race_or_ethnicity', u'other_religion',\n",
       "       u'other_sexual_orientation', u'physical_disability',\n",
       "       u'psychiatric_or_mental_illness', u'transgender', u'white',\n",
       "       u'created_date', u'publication_id', u'parent_id', u'article_id',\n",
       "       u'rating', u'funny', u'wow', u'sad', u'likes', u'disagree',\n",
       "       u'sexual_explicit', u'identity_annotator_count',\n",
       "       u'toxicity_annotator_count'],\n",
       "      dtype='object')"
      ]
     },
     "execution_count": 158,
     "metadata": {},
     "output_type": "execute_result"
    }
   ],
   "source": [
    "train.columns"
   ]
  },
  {
   "cell_type": "code",
   "execution_count": 159,
   "metadata": {},
   "outputs": [
    {
     "data": {
      "text/html": [
       "<div>\n",
       "<style scoped>\n",
       "    .dataframe tbody tr th:only-of-type {\n",
       "        vertical-align: middle;\n",
       "    }\n",
       "\n",
       "    .dataframe tbody tr th {\n",
       "        vertical-align: top;\n",
       "    }\n",
       "\n",
       "    .dataframe thead th {\n",
       "        text-align: right;\n",
       "    }\n",
       "</style>\n",
       "<table border=\"1\" class=\"dataframe\">\n",
       "  <thead>\n",
       "    <tr style=\"text-align: right;\">\n",
       "      <th></th>\n",
       "      <th>id</th>\n",
       "      <th>target</th>\n",
       "      <th>comment_text</th>\n",
       "      <th>severe_toxicity</th>\n",
       "      <th>obscene</th>\n",
       "      <th>identity_attack</th>\n",
       "      <th>insult</th>\n",
       "      <th>threat</th>\n",
       "      <th>asian</th>\n",
       "      <th>atheist</th>\n",
       "      <th>...</th>\n",
       "      <th>article_id</th>\n",
       "      <th>rating</th>\n",
       "      <th>funny</th>\n",
       "      <th>wow</th>\n",
       "      <th>sad</th>\n",
       "      <th>likes</th>\n",
       "      <th>disagree</th>\n",
       "      <th>sexual_explicit</th>\n",
       "      <th>identity_annotator_count</th>\n",
       "      <th>toxicity_annotator_count</th>\n",
       "    </tr>\n",
       "  </thead>\n",
       "  <tbody>\n",
       "    <tr>\n",
       "      <th>11</th>\n",
       "      <td>239579</td>\n",
       "      <td>0.4400</td>\n",
       "      <td>This is a great story. Man. I wonder if the pe...</td>\n",
       "      <td>0.00</td>\n",
       "      <td>0.293333</td>\n",
       "      <td>0.0000</td>\n",
       "      <td>0.3200</td>\n",
       "      <td>0.0000</td>\n",
       "      <td>0.0</td>\n",
       "      <td>0.0</td>\n",
       "      <td>...</td>\n",
       "      <td>26650</td>\n",
       "      <td>approved</td>\n",
       "      <td>0</td>\n",
       "      <td>0</td>\n",
       "      <td>0</td>\n",
       "      <td>1</td>\n",
       "      <td>0</td>\n",
       "      <td>0.04</td>\n",
       "      <td>10</td>\n",
       "      <td>75</td>\n",
       "    </tr>\n",
       "    <tr>\n",
       "      <th>31</th>\n",
       "      <td>239607</td>\n",
       "      <td>0.9125</td>\n",
       "      <td>Yet call out all Muslims for the acts of a few...</td>\n",
       "      <td>0.05</td>\n",
       "      <td>0.237500</td>\n",
       "      <td>0.6125</td>\n",
       "      <td>0.8875</td>\n",
       "      <td>0.1125</td>\n",
       "      <td>0.0</td>\n",
       "      <td>0.0</td>\n",
       "      <td>...</td>\n",
       "      <td>26670</td>\n",
       "      <td>approved</td>\n",
       "      <td>0</td>\n",
       "      <td>0</td>\n",
       "      <td>0</td>\n",
       "      <td>1</td>\n",
       "      <td>0</td>\n",
       "      <td>0.00</td>\n",
       "      <td>4</td>\n",
       "      <td>80</td>\n",
       "    </tr>\n",
       "    <tr>\n",
       "      <th>51</th>\n",
       "      <td>239644</td>\n",
       "      <td>0.0000</td>\n",
       "      <td>Because the people who drive cars more are the...</td>\n",
       "      <td>0.00</td>\n",
       "      <td>0.000000</td>\n",
       "      <td>0.0000</td>\n",
       "      <td>0.0000</td>\n",
       "      <td>0.0000</td>\n",
       "      <td>0.0</td>\n",
       "      <td>0.0</td>\n",
       "      <td>...</td>\n",
       "      <td>26673</td>\n",
       "      <td>approved</td>\n",
       "      <td>0</td>\n",
       "      <td>0</td>\n",
       "      <td>0</td>\n",
       "      <td>0</td>\n",
       "      <td>0</td>\n",
       "      <td>0.00</td>\n",
       "      <td>4</td>\n",
       "      <td>4</td>\n",
       "    </tr>\n",
       "    <tr>\n",
       "      <th>58</th>\n",
       "      <td>239653</td>\n",
       "      <td>0.3000</td>\n",
       "      <td>Mormons have had a complicated relationship wi...</td>\n",
       "      <td>0.00</td>\n",
       "      <td>0.000000</td>\n",
       "      <td>0.3000</td>\n",
       "      <td>0.0000</td>\n",
       "      <td>0.0000</td>\n",
       "      <td>0.0</td>\n",
       "      <td>0.0</td>\n",
       "      <td>...</td>\n",
       "      <td>26670</td>\n",
       "      <td>approved</td>\n",
       "      <td>0</td>\n",
       "      <td>0</td>\n",
       "      <td>0</td>\n",
       "      <td>2</td>\n",
       "      <td>0</td>\n",
       "      <td>0.00</td>\n",
       "      <td>10</td>\n",
       "      <td>10</td>\n",
       "    </tr>\n",
       "    <tr>\n",
       "      <th>111</th>\n",
       "      <td>239744</td>\n",
       "      <td>0.0000</td>\n",
       "      <td>I'm doing the same thing! :)</td>\n",
       "      <td>0.00</td>\n",
       "      <td>0.000000</td>\n",
       "      <td>0.0000</td>\n",
       "      <td>0.0000</td>\n",
       "      <td>0.0000</td>\n",
       "      <td>0.0</td>\n",
       "      <td>0.0</td>\n",
       "      <td>...</td>\n",
       "      <td>26795</td>\n",
       "      <td>approved</td>\n",
       "      <td>0</td>\n",
       "      <td>0</td>\n",
       "      <td>0</td>\n",
       "      <td>1</td>\n",
       "      <td>0</td>\n",
       "      <td>0.00</td>\n",
       "      <td>4</td>\n",
       "      <td>4</td>\n",
       "    </tr>\n",
       "  </tbody>\n",
       "</table>\n",
       "<p>5 rows × 45 columns</p>\n",
       "</div>"
      ],
      "text/plain": [
       "         id  target                                       comment_text  \\\n",
       "11   239579  0.4400  This is a great story. Man. I wonder if the pe...   \n",
       "31   239607  0.9125  Yet call out all Muslims for the acts of a few...   \n",
       "51   239644  0.0000  Because the people who drive cars more are the...   \n",
       "58   239653  0.3000  Mormons have had a complicated relationship wi...   \n",
       "111  239744  0.0000                       I'm doing the same thing! :)   \n",
       "\n",
       "     severe_toxicity   obscene  identity_attack  insult  threat  asian  \\\n",
       "11              0.00  0.293333           0.0000  0.3200  0.0000    0.0   \n",
       "31              0.05  0.237500           0.6125  0.8875  0.1125    0.0   \n",
       "51              0.00  0.000000           0.0000  0.0000  0.0000    0.0   \n",
       "58              0.00  0.000000           0.3000  0.0000  0.0000    0.0   \n",
       "111             0.00  0.000000           0.0000  0.0000  0.0000    0.0   \n",
       "\n",
       "     atheist            ...             article_id    rating  funny  wow  sad  \\\n",
       "11       0.0            ...                  26650  approved      0    0    0   \n",
       "31       0.0            ...                  26670  approved      0    0    0   \n",
       "51       0.0            ...                  26673  approved      0    0    0   \n",
       "58       0.0            ...                  26670  approved      0    0    0   \n",
       "111      0.0            ...                  26795  approved      0    0    0   \n",
       "\n",
       "     likes  disagree  sexual_explicit  identity_annotator_count  \\\n",
       "11       1         0             0.04                        10   \n",
       "31       1         0             0.00                         4   \n",
       "51       0         0             0.00                         4   \n",
       "58       2         0             0.00                        10   \n",
       "111      1         0             0.00                         4   \n",
       "\n",
       "     toxicity_annotator_count  \n",
       "11                         75  \n",
       "31                         80  \n",
       "51                          4  \n",
       "58                         10  \n",
       "111                         4  \n",
       "\n",
       "[5 rows x 45 columns]"
      ]
     },
     "execution_count": 159,
     "metadata": {},
     "output_type": "execute_result"
    }
   ],
   "source": [
    "train.head()"
   ]
  },
  {
   "cell_type": "markdown",
   "metadata": {},
   "source": [
    "Creating a duplicate dataframe to work with so that we dont tamper the original data"
   ]
  },
  {
   "cell_type": "code",
   "execution_count": 160,
   "metadata": {},
   "outputs": [],
   "source": [
    "train1 = train"
   ]
  },
  {
   "cell_type": "markdown",
   "metadata": {},
   "source": [
    "### Looking at the datatypes"
   ]
  },
  {
   "cell_type": "code",
   "execution_count": 161,
   "metadata": {},
   "outputs": [
    {
     "data": {
      "text/plain": [
       "id                                       int64\n",
       "target                                 float64\n",
       "comment_text                            object\n",
       "severe_toxicity                        float64\n",
       "obscene                                float64\n",
       "identity_attack                        float64\n",
       "insult                                 float64\n",
       "threat                                 float64\n",
       "asian                                  float64\n",
       "atheist                                float64\n",
       "bisexual                               float64\n",
       "black                                  float64\n",
       "buddhist                               float64\n",
       "christian                              float64\n",
       "female                                 float64\n",
       "heterosexual                           float64\n",
       "hindu                                  float64\n",
       "homosexual_gay_or_lesbian              float64\n",
       "intellectual_or_learning_disability    float64\n",
       "jewish                                 float64\n",
       "latino                                 float64\n",
       "male                                   float64\n",
       "muslim                                 float64\n",
       "other_disability                       float64\n",
       "other_gender                           float64\n",
       "other_race_or_ethnicity                float64\n",
       "other_religion                         float64\n",
       "other_sexual_orientation               float64\n",
       "physical_disability                    float64\n",
       "psychiatric_or_mental_illness          float64\n",
       "transgender                            float64\n",
       "white                                  float64\n",
       "created_date                            object\n",
       "publication_id                           int64\n",
       "parent_id                              float64\n",
       "article_id                               int64\n",
       "rating                                  object\n",
       "funny                                    int64\n",
       "wow                                      int64\n",
       "sad                                      int64\n",
       "likes                                    int64\n",
       "disagree                                 int64\n",
       "sexual_explicit                        float64\n",
       "identity_annotator_count                 int64\n",
       "toxicity_annotator_count                 int64\n",
       "dtype: object"
      ]
     },
     "execution_count": 161,
     "metadata": {},
     "output_type": "execute_result"
    }
   ],
   "source": [
    "train1.dtypes"
   ]
  },
  {
   "cell_type": "markdown",
   "metadata": {},
   "source": [
    "We have comment_text, rating and the creation date to be in text format\n",
    "1. For initial run let's leave out comment_text and creation date\n",
    "2. Since rating has only 2 texts approved or rejected. Let us convert those to numbers using Label Encoding"
   ]
  },
  {
   "cell_type": "code",
   "execution_count": 162,
   "metadata": {},
   "outputs": [
    {
     "data": {
      "text/plain": [
       "approved    217038\n",
       "rejected     18049\n",
       "Name: rating, dtype: int64"
      ]
     },
     "execution_count": 162,
     "metadata": {},
     "output_type": "execute_result"
    }
   ],
   "source": [
    "pd.value_counts(train1['rating'])"
   ]
  },
  {
   "cell_type": "code",
   "execution_count": 163,
   "metadata": {},
   "outputs": [],
   "source": [
    "from sklearn.preprocessing import LabelEncoder\n",
    "le = LabelEncoder()\n",
    "train1['rating'] = le.fit_transform(train1['rating'])\n"
   ]
  },
  {
   "cell_type": "code",
   "execution_count": 164,
   "metadata": {},
   "outputs": [
    {
     "data": {
      "text/plain": [
       "id                                       int64\n",
       "target                                 float64\n",
       "comment_text                            object\n",
       "severe_toxicity                        float64\n",
       "obscene                                float64\n",
       "identity_attack                        float64\n",
       "insult                                 float64\n",
       "threat                                 float64\n",
       "asian                                  float64\n",
       "atheist                                float64\n",
       "bisexual                               float64\n",
       "black                                  float64\n",
       "buddhist                               float64\n",
       "christian                              float64\n",
       "female                                 float64\n",
       "heterosexual                           float64\n",
       "hindu                                  float64\n",
       "homosexual_gay_or_lesbian              float64\n",
       "intellectual_or_learning_disability    float64\n",
       "jewish                                 float64\n",
       "latino                                 float64\n",
       "male                                   float64\n",
       "muslim                                 float64\n",
       "other_disability                       float64\n",
       "other_gender                           float64\n",
       "other_race_or_ethnicity                float64\n",
       "other_religion                         float64\n",
       "other_sexual_orientation               float64\n",
       "physical_disability                    float64\n",
       "psychiatric_or_mental_illness          float64\n",
       "transgender                            float64\n",
       "white                                  float64\n",
       "created_date                            object\n",
       "publication_id                           int64\n",
       "parent_id                              float64\n",
       "article_id                               int64\n",
       "rating                                   int64\n",
       "funny                                    int64\n",
       "wow                                      int64\n",
       "sad                                      int64\n",
       "likes                                    int64\n",
       "disagree                                 int64\n",
       "sexual_explicit                        float64\n",
       "identity_annotator_count                 int64\n",
       "toxicity_annotator_count                 int64\n",
       "dtype: object"
      ]
     },
     "execution_count": 164,
     "metadata": {},
     "output_type": "execute_result"
    }
   ],
   "source": [
    "train1.dtypes"
   ]
  },
  {
   "cell_type": "code",
   "execution_count": 165,
   "metadata": {},
   "outputs": [
    {
     "data": {
      "text/plain": [
       "(235087, 45)"
      ]
     },
     "execution_count": 165,
     "metadata": {},
     "output_type": "execute_result"
    }
   ],
   "source": [
    "train1.shape"
   ]
  },
  {
   "cell_type": "code",
   "execution_count": 166,
   "metadata": {},
   "outputs": [],
   "source": [
    "train1 = train1.drop(['comment_text','created_date'],axis = 1)"
   ]
  },
  {
   "cell_type": "code",
   "execution_count": 167,
   "metadata": {},
   "outputs": [
    {
     "data": {
      "text/plain": [
       "id                                     0\n",
       "target                                 0\n",
       "severe_toxicity                        0\n",
       "obscene                                0\n",
       "identity_attack                        0\n",
       "insult                                 0\n",
       "threat                                 0\n",
       "asian                                  0\n",
       "atheist                                0\n",
       "bisexual                               0\n",
       "black                                  0\n",
       "buddhist                               0\n",
       "christian                              0\n",
       "female                                 0\n",
       "heterosexual                           0\n",
       "hindu                                  0\n",
       "homosexual_gay_or_lesbian              0\n",
       "intellectual_or_learning_disability    0\n",
       "jewish                                 0\n",
       "latino                                 0\n",
       "male                                   0\n",
       "muslim                                 0\n",
       "other_disability                       0\n",
       "other_gender                           0\n",
       "other_race_or_ethnicity                0\n",
       "other_religion                         0\n",
       "other_sexual_orientation               0\n",
       "physical_disability                    0\n",
       "psychiatric_or_mental_illness          0\n",
       "transgender                            0\n",
       "white                                  0\n",
       "publication_id                         0\n",
       "parent_id                              0\n",
       "article_id                             0\n",
       "rating                                 0\n",
       "funny                                  0\n",
       "wow                                    0\n",
       "sad                                    0\n",
       "likes                                  0\n",
       "disagree                               0\n",
       "sexual_explicit                        0\n",
       "identity_annotator_count               0\n",
       "toxicity_annotator_count               0\n",
       "dtype: int64"
      ]
     },
     "execution_count": 167,
     "metadata": {},
     "output_type": "execute_result"
    }
   ],
   "source": [
    "train1.isna().sum()"
   ]
  },
  {
   "cell_type": "code",
   "execution_count": 168,
   "metadata": {},
   "outputs": [
    {
     "data": {
      "text/plain": [
       "id                                     0\n",
       "target                                 0\n",
       "severe_toxicity                        0\n",
       "obscene                                0\n",
       "identity_attack                        0\n",
       "insult                                 0\n",
       "threat                                 0\n",
       "asian                                  0\n",
       "atheist                                0\n",
       "bisexual                               0\n",
       "black                                  0\n",
       "buddhist                               0\n",
       "christian                              0\n",
       "female                                 0\n",
       "heterosexual                           0\n",
       "hindu                                  0\n",
       "homosexual_gay_or_lesbian              0\n",
       "intellectual_or_learning_disability    0\n",
       "jewish                                 0\n",
       "latino                                 0\n",
       "male                                   0\n",
       "muslim                                 0\n",
       "other_disability                       0\n",
       "other_gender                           0\n",
       "other_race_or_ethnicity                0\n",
       "other_religion                         0\n",
       "other_sexual_orientation               0\n",
       "physical_disability                    0\n",
       "psychiatric_or_mental_illness          0\n",
       "transgender                            0\n",
       "white                                  0\n",
       "publication_id                         0\n",
       "parent_id                              0\n",
       "article_id                             0\n",
       "rating                                 0\n",
       "funny                                  0\n",
       "wow                                    0\n",
       "sad                                    0\n",
       "likes                                  0\n",
       "disagree                               0\n",
       "sexual_explicit                        0\n",
       "identity_annotator_count               0\n",
       "toxicity_annotator_count               0\n",
       "dtype: int64"
      ]
     },
     "execution_count": 168,
     "metadata": {},
     "output_type": "execute_result"
    }
   ],
   "source": [
    "train1.isnull().sum()"
   ]
  },
  {
   "cell_type": "markdown",
   "metadata": {},
   "source": [
    "Finding out correlation to drop the independent variables with less correlation (<0.01) with the dependent variable"
   ]
  },
  {
   "cell_type": "code",
   "execution_count": 169,
   "metadata": {},
   "outputs": [],
   "source": [
    "a = train1.corr()"
   ]
  },
  {
   "cell_type": "code",
   "execution_count": 170,
   "metadata": {},
   "outputs": [
    {
     "data": {
      "text/plain": [
       "(43, 43)"
      ]
     },
     "execution_count": 170,
     "metadata": {},
     "output_type": "execute_result"
    }
   ],
   "source": [
    "a.shape"
   ]
  },
  {
   "cell_type": "code",
   "execution_count": 171,
   "metadata": {},
   "outputs": [
    {
     "data": {
      "text/plain": [
       "id                                     0.005130\n",
       "target                                 1.000000\n",
       "severe_toxicity                        0.397560\n",
       "obscene                                0.445524\n",
       "identity_attack                        0.628563\n",
       "insult                                 0.892108\n",
       "threat                                 0.286338\n",
       "asian                                  0.004785\n",
       "atheist                                0.008410\n",
       "bisexual                               0.021069\n",
       "black                                  0.174566\n",
       "buddhist                               0.002435\n",
       "christian                             -0.014059\n",
       "female                                 0.063911\n",
       "heterosexual                           0.043987\n",
       "hindu                                  0.003958\n",
       "homosexual_gay_or_lesbian              0.143602\n",
       "intellectual_or_learning_disability    0.036784\n",
       "jewish                                 0.047454\n",
       "latino                                 0.029040\n",
       "male                                   0.075762\n",
       "muslim                                 0.126175\n",
       "other_disability                       0.009950\n",
       "other_gender                           0.013865\n",
       "other_race_or_ethnicity                0.036078\n",
       "other_religion                         0.017088\n",
       "other_sexual_orientation               0.030996\n",
       "physical_disability                    0.007906\n",
       "psychiatric_or_mental_illness          0.055950\n",
       "transgender                            0.040730\n",
       "white                                  0.203733\n",
       "publication_id                        -0.002876\n",
       "parent_id                              0.005175\n",
       "article_id                             0.006724\n",
       "rating                                 0.209280\n",
       "funny                                 -0.011231\n",
       "wow                                    0.016518\n",
       "sad                                    0.016984\n",
       "likes                                  0.007001\n",
       "disagree                               0.021672\n",
       "sexual_explicit                        0.290051\n",
       "identity_annotator_count               0.015365\n",
       "toxicity_annotator_count               0.231254\n",
       "Name: target, dtype: float64"
      ]
     },
     "execution_count": 171,
     "metadata": {},
     "output_type": "execute_result"
    }
   ],
   "source": [
    "a['target']"
   ]
  },
  {
   "cell_type": "code",
   "execution_count": 172,
   "metadata": {},
   "outputs": [],
   "source": [
    "train2 = train1"
   ]
  },
  {
   "cell_type": "code",
   "execution_count": 173,
   "metadata": {},
   "outputs": [],
   "source": [
    "for value in a.columns:\n",
    "    if(a['target'][value]<0.01):\n",
    "        train2 = train2.drop(value, axis = 1)\n",
    "    "
   ]
  },
  {
   "cell_type": "code",
   "execution_count": 174,
   "metadata": {},
   "outputs": [
    {
     "data": {
      "text/plain": [
       "(235087, 30)"
      ]
     },
     "execution_count": 174,
     "metadata": {},
     "output_type": "execute_result"
    }
   ],
   "source": [
    "train2.shape"
   ]
  },
  {
   "cell_type": "code",
   "execution_count": 175,
   "metadata": {},
   "outputs": [],
   "source": [
    "y = train2.pop('target')"
   ]
  },
  {
   "cell_type": "code",
   "execution_count": 176,
   "metadata": {},
   "outputs": [
    {
     "data": {
      "text/plain": [
       "(235087, 29)"
      ]
     },
     "execution_count": 176,
     "metadata": {},
     "output_type": "execute_result"
    }
   ],
   "source": [
    "train2.shape"
   ]
  },
  {
   "cell_type": "code",
   "execution_count": 177,
   "metadata": {},
   "outputs": [
    {
     "data": {
      "text/plain": [
       "(235087L,)"
      ]
     },
     "execution_count": 177,
     "metadata": {},
     "output_type": "execute_result"
    }
   ],
   "source": [
    "y.shape"
   ]
  },
  {
   "cell_type": "code",
   "execution_count": 186,
   "metadata": {},
   "outputs": [
    {
     "name": "stderr",
     "output_type": "stream",
     "text": [
      "C:\\Users\\GL\\Anaconda2\\lib\\site-packages\\ipykernel_launcher.py:1: FutureWarning: reshape is deprecated and will raise in a subsequent release. Please use .values.reshape(...) instead\n",
      "  \"\"\"Entry point for launching an IPython kernel.\n"
     ]
    }
   ],
   "source": [
    "y = y.reshape(len(y),1)"
   ]
  },
  {
   "cell_type": "code",
   "execution_count": 187,
   "metadata": {},
   "outputs": [
    {
     "data": {
      "text/plain": [
       "(235087L, 1L)"
      ]
     },
     "execution_count": 187,
     "metadata": {},
     "output_type": "execute_result"
    }
   ],
   "source": [
    "y.shape"
   ]
  },
  {
   "cell_type": "markdown",
   "metadata": {},
   "source": [
    "Building a model"
   ]
  },
  {
   "cell_type": "code",
   "execution_count": 188,
   "metadata": {},
   "outputs": [],
   "source": [
    "from sklearn.model_selection import train_test_split\n",
    "x_train, x_val, y_train, y_val = train_test_split(train2,y)"
   ]
  },
  {
   "cell_type": "code",
   "execution_count": 189,
   "metadata": {},
   "outputs": [
    {
     "data": {
      "text/plain": [
       "(176315, 29)"
      ]
     },
     "execution_count": 189,
     "metadata": {},
     "output_type": "execute_result"
    }
   ],
   "source": [
    "x_train.shape"
   ]
  },
  {
   "cell_type": "code",
   "execution_count": 190,
   "metadata": {},
   "outputs": [
    {
     "data": {
      "text/plain": [
       "(176315L, 1L)"
      ]
     },
     "execution_count": 190,
     "metadata": {},
     "output_type": "execute_result"
    }
   ],
   "source": [
    "y_train.shape"
   ]
  },
  {
   "cell_type": "code",
   "execution_count": null,
   "metadata": {},
   "outputs": [],
   "source": [
    "from sklearn.ensemble\n",
    "dt = DecisionTreeRegressor()"
   ]
  },
  {
   "cell_type": "code",
   "execution_count": 198,
   "metadata": {},
   "outputs": [
    {
     "data": {
      "text/plain": [
       "DecisionTreeRegressor(criterion='mse', max_depth=None, max_features=None,\n",
       "           max_leaf_nodes=None, min_impurity_decrease=0.0,\n",
       "           min_impurity_split=None, min_samples_leaf=1,\n",
       "           min_samples_split=2, min_weight_fraction_leaf=0.0,\n",
       "           presort=False, random_state=None, splitter='best')"
      ]
     },
     "execution_count": 198,
     "metadata": {},
     "output_type": "execute_result"
    }
   ],
   "source": [
    "dt.fit(y_train,x_train)"
   ]
  },
  {
   "cell_type": "code",
   "execution_count": 199,
   "metadata": {},
   "outputs": [],
   "source": [
    "from sklearn.metrics import accuracy_score"
   ]
  },
  {
   "cell_type": "code",
   "execution_count": 201,
   "metadata": {},
   "outputs": [
    {
     "data": {
      "text/plain": [
       "0.6129598258175889"
      ]
     },
     "execution_count": 201,
     "metadata": {},
     "output_type": "execute_result"
    }
   ],
   "source": [
    "dt.score(y_train,x_train)"
   ]
  },
  {
   "cell_type": "code",
   "execution_count": 203,
   "metadata": {},
   "outputs": [
    {
     "data": {
      "text/plain": [
       "0.1423192695523758"
      ]
     },
     "execution_count": 203,
     "metadata": {},
     "output_type": "execute_result"
    }
   ],
   "source": [
    "dt.score(y_val,x_val)"
   ]
  },
  {
   "cell_type": "code",
   "execution_count": null,
   "metadata": {},
   "outputs": [],
   "source": []
  }
 ],
 "metadata": {
  "kernelspec": {
   "display_name": "Python 2",
   "language": "python",
   "name": "python2"
  },
  "language_info": {
   "codemirror_mode": {
    "name": "ipython",
    "version": 2
   },
   "file_extension": ".py",
   "mimetype": "text/x-python",
   "name": "python",
   "nbconvert_exporter": "python",
   "pygments_lexer": "ipython2",
   "version": "2.7.14"
  }
 },
 "nbformat": 4,
 "nbformat_minor": 2
}
